{
 "cells": [
  {
   "cell_type": "code",
   "execution_count": 1,
   "id": "b687eebc",
   "metadata": {},
   "outputs": [
    {
     "name": "stdout",
     "output_type": "stream",
     "text": [
      "hello world\n"
     ]
    }
   ],
   "source": [
    "print(\"hello world\")"
   ]
  },
  {
   "cell_type": "code",
   "execution_count": 3,
   "id": "f5846db0",
   "metadata": {},
   "outputs": [],
   "source": [
    "#Deep learning inspired by how the human brain learns \n",
    "#Neural networks are a set of algorithms, modeled loosely after the human brain "
   ]
  },
  {
   "cell_type": "code",
   "execution_count": 4,
   "id": "25a70f02",
   "metadata": {},
   "outputs": [],
   "source": [
    "#Pytorch Sensor # Similar to array or matrix \n",
    "#Tensors are the building blocks of deep learning"
   ]
  },
  {
   "cell_type": "code",
   "execution_count": 5,
   "id": "88d03df0",
   "metadata": {},
   "outputs": [
    {
     "name": "stdout",
     "output_type": "stream",
     "text": [
      "tensor([[1, 2, 3],\n",
      "        [4, 5, 6]])\n"
     ]
    }
   ],
   "source": [
    "import torch\n",
    "my_list = [[1,2,3],[4,5,6]]\n",
    "my_tensor = torch.tensor(my_list)\n",
    "print(my_tensor)"
   ]
  },
  {
   "cell_type": "code",
   "execution_count": null,
   "id": "7f8757ea",
   "metadata": {},
   "outputs": [
    {
     "name": "stdout",
     "output_type": "stream",
     "text": [
      "torch.Size([2, 3])\n",
      "torch.int64\n",
      "cpu\n"
     ]
    }
   ],
   "source": [
    "my_list = [[1,2,3],[4,5,6]]\n",
    "my_tensor = torch.tensor(my_list)\n",
    "print(my_tensor.shape)\n",
    "print(my_tensor.dtype)\n",
    "print(my_tensor.device)"
   ]
  },
  {
   "cell_type": "code",
   "execution_count": null,
   "id": "d6c65301",
   "metadata": {},
   "outputs": [
    {
     "name": "stdout",
     "output_type": "stream",
     "text": [
      "tensor([[2, 2],\n",
      "        [6, 6]])\n"
     ]
    }
   ],
   "source": [
    "import torch \n",
    "a = torch.tensor([[1,1], [2,2]])\n",
    "b = torch.tensor([[2,2], [3,3]])\n",
    "result = a * b \n",
    "print(result)\n",
    "# row * column "
   ]
  },
  {
   "cell_type": "code",
   "execution_count": 3,
   "id": "74762b6d",
   "metadata": {},
   "outputs": [
    {
     "data": {
      "text/plain": [
       "' Neural network consisto of input output and hidden layers \\n    Input layer : dataset features \\n    Ouput layer : predictions \\n    Hidden layers : They lie between input and output layers and consist of various hidden layers \\n'"
      ]
     },
     "execution_count": 3,
     "metadata": {},
     "output_type": "execute_result"
    }
   ],
   "source": [
    "# First neural network in pytorch tensors \n",
    "''' Neural network consisto of input output and hidden layers \n",
    "    Input layer : dataset features \n",
    "    Ouput layer : predictions \n",
    "    Hidden layers : They lie between input and output layers and consist of various hidden layers \n",
    "'''\n"
   ]
  },
  {
   "cell_type": "code",
   "execution_count": 4,
   "id": "10673e74",
   "metadata": {},
   "outputs": [],
   "source": [
    "# Importing as nn to avovid writing as torch.nn and \n",
    "# Input neurons : features in our dataset \n",
    "# Output : number of classes we watn to rpredit "
   ]
  },
  {
   "cell_type": "code",
   "execution_count": null,
   "id": "5b4faa17",
   "metadata": {},
   "outputs": [
    {
     "ename": "TypeError",
     "evalue": "'builtin_function_or_method' object is not subscriptable",
     "output_type": "error",
     "traceback": [
      "\u001b[31m---------------------------------------------------------------------------\u001b[39m",
      "\u001b[31mTypeError\u001b[39m                                 Traceback (most recent call last)",
      "\u001b[36mCell\u001b[39m\u001b[36m \u001b[39m\u001b[32mIn[5]\u001b[39m\u001b[32m, line 3\u001b[39m\n\u001b[32m      1\u001b[39m \u001b[38;5;28;01mimport\u001b[39;00m\u001b[38;5;250m \u001b[39m\u001b[34;01mtorch\u001b[39;00m\u001b[34;01m.\u001b[39;00m\u001b[34;01mnn\u001b[39;00m\u001b[38;5;250m \u001b[39m\u001b[38;5;28;01mas\u001b[39;00m\u001b[38;5;250m \u001b[39m\u001b[34;01mnn\u001b[39;00m \n\u001b[32m      2\u001b[39m \u001b[38;5;66;03m# Creating input_tensor with three features \u001b[39;00m\n\u001b[32m----> \u001b[39m\u001b[32m3\u001b[39m input_tensor = \u001b[43mtorch\u001b[49m\u001b[43m.\u001b[49m\u001b[43mtensor\u001b[49m\u001b[43m[\u001b[49m\u001b[43m[\u001b[49m\u001b[32;43m0.3471\u001b[39;49m\u001b[43m \u001b[49m\u001b[43m,\u001b[49m\u001b[43m \u001b[49m\u001b[32;43m0.4547\u001b[39;49m\u001b[43m \u001b[49m\u001b[43m,\u001b[49m\u001b[43m \u001b[49m\u001b[43m-\u001b[49m\u001b[32;43m0.2356\u001b[39;49m\u001b[43m]\u001b[49m\u001b[43m]\u001b[49m\n\u001b[32m      5\u001b[39m \u001b[38;5;66;03m# Defining the linear layer as it applies linear function to make the predictions \u001b[39;00m\n\u001b[32m      6\u001b[39m linear_layer  = nn.Linear(\n\u001b[32m      7\u001b[39m     in_features= \u001b[32m3\u001b[39m ,\n\u001b[32m      8\u001b[39m     out_features= \u001b[32m2\u001b[39m \n\u001b[32m      9\u001b[39m )\n",
      "\u001b[31mTypeError\u001b[39m: 'builtin_function_or_method' object is not subscriptable"
     ]
    }
   ],
   "source": [
    "import torch\n",
    "import torch.nn as nn\n",
    "\n",
    "# Creating input_tensor with three features\n",
    "input_tensor = torch.tensor([[0.3471, 0.4547, -0.2356]])  # Note the double square brackets\n",
    "\n",
    "# Defining the linear layer as it applies a linear transformation to the incoming data\n",
    "linear_layer = nn.Linear(\n",
    "    in_features=3,\n",
    "    out_features=2\n",
    ")\n",
    "\n",
    "# Passing the input through the linear layer\n",
    "output = linear_layer(input_tensor)\n",
    "print(output)"
   ]
  },
  {
   "cell_type": "code",
   "execution_count": null,
   "id": "fc4b612f",
   "metadata": {},
   "outputs": [],
   "source": []
  }
 ],
 "metadata": {
  "kernelspec": {
   "display_name": "Python 3",
   "language": "python",
   "name": "python3"
  },
  "language_info": {
   "codemirror_mode": {
    "name": "ipython",
    "version": 3
   },
   "file_extension": ".py",
   "mimetype": "text/x-python",
   "name": "python",
   "nbconvert_exporter": "python",
   "pygments_lexer": "ipython3",
   "version": "3.13.2"
  }
 },
 "nbformat": 4,
 "nbformat_minor": 5
}
