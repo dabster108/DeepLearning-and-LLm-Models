{
 "cells": [
  {
   "cell_type": "code",
   "execution_count": 1,
   "id": "b687eebc",
   "metadata": {},
   "outputs": [
    {
     "name": "stdout",
     "output_type": "stream",
     "text": [
      "hello world\n"
     ]
    }
   ],
   "source": [
    "print(\"hello world\")"
   ]
  },
  {
   "cell_type": "code",
   "execution_count": 3,
   "id": "f5846db0",
   "metadata": {},
   "outputs": [],
   "source": [
    "#Deep learning inspired by how the human brain learns \n",
    "#Neural networks are a set of algorithms, modeled loosely after the human brain "
   ]
  },
  {
   "cell_type": "code",
   "execution_count": 4,
   "id": "25a70f02",
   "metadata": {},
   "outputs": [],
   "source": [
    "#Pytorch Sensor # Similar to array or matrix \n",
    "#Tensors are the building blocks of deep learning"
   ]
  },
  {
   "cell_type": "code",
   "execution_count": 5,
   "id": "88d03df0",
   "metadata": {},
   "outputs": [
    {
     "name": "stdout",
     "output_type": "stream",
     "text": [
      "tensor([[1, 2, 3],\n",
      "        [4, 5, 6]])\n"
     ]
    }
   ],
   "source": [
    "import torch\n",
    "my_list = [[1,2,3],[4,5,6]]\n",
    "my_tensor = torch.tensor(my_list)\n",
    "print(my_tensor)"
   ]
  },
  {
   "cell_type": "code",
   "execution_count": null,
   "id": "7f8757ea",
   "metadata": {},
   "outputs": [],
   "source": []
  }
 ],
 "metadata": {
  "kernelspec": {
   "display_name": "Python 3",
   "language": "python",
   "name": "python3"
  },
  "language_info": {
   "codemirror_mode": {
    "name": "ipython",
    "version": 3
   },
   "file_extension": ".py",
   "mimetype": "text/x-python",
   "name": "python",
   "nbconvert_exporter": "python",
   "pygments_lexer": "ipython3",
   "version": "3.13.2"
  }
 },
 "nbformat": 4,
 "nbformat_minor": 5
}
