{
 "cells": [
  {
   "cell_type": "code",
   "execution_count": 1,
   "id": "b687eebc",
   "metadata": {},
   "outputs": [
    {
     "name": "stdout",
     "output_type": "stream",
     "text": [
      "hello world\n"
     ]
    }
   ],
   "source": [
    "print(\"hello world\")"
   ]
  },
  {
   "cell_type": "code",
   "execution_count": 3,
   "id": "f5846db0",
   "metadata": {},
   "outputs": [],
   "source": [
    "#Deep learning inspired by how the human brain learns \n",
    "#Neural networks are a set of algorithms, modeled loosely after the human brain "
   ]
  },
  {
   "cell_type": "code",
   "execution_count": 4,
   "id": "25a70f02",
   "metadata": {},
   "outputs": [],
   "source": [
    "#Pytorch Sensor # Similar to array or matrix \n",
    "#Tensors are the building blocks of deep learning"
   ]
  },
  {
   "cell_type": "code",
   "execution_count": 5,
   "id": "88d03df0",
   "metadata": {},
   "outputs": [
    {
     "name": "stdout",
     "output_type": "stream",
     "text": [
      "tensor([[1, 2, 3],\n",
      "        [4, 5, 6]])\n"
     ]
    }
   ],
   "source": [
    "import torch\n",
    "my_list = [[1,2,3],[4,5,6]]\n",
    "my_tensor = torch.tensor(my_list)\n",
    "print(my_tensor)"
   ]
  },
  {
   "cell_type": "code",
   "execution_count": null,
   "id": "7f8757ea",
   "metadata": {},
   "outputs": [
    {
     "name": "stdout",
     "output_type": "stream",
     "text": [
      "torch.Size([2, 3])\n",
      "torch.int64\n",
      "cpu\n"
     ]
    }
   ],
   "source": [
    "my_list = [[1,2,3],[4,5,6]]\n",
    "my_tensor = torch.tensor(my_list)\n",
    "print(my_tensor.shape)\n",
    "print(my_tensor.dtype)\n",
    "print(my_tensor.device)"
   ]
  },
  {
   "cell_type": "code",
   "execution_count": null,
   "id": "d6c65301",
   "metadata": {},
   "outputs": [
    {
     "name": "stdout",
     "output_type": "stream",
     "text": [
      "tensor([[2, 2],\n",
      "        [6, 6]])\n"
     ]
    }
   ],
   "source": [
    "import torch \n",
    "a = torch.tensor([[1,1], [2,2]])\n",
    "b = torch.tensor([[2,2], [3,3]])\n",
    "result = a * b \n",
    "print(result)\n",
    "# row * column "
   ]
  },
  {
   "cell_type": "code",
   "execution_count": 3,
   "id": "74762b6d",
   "metadata": {},
   "outputs": [
    {
     "data": {
      "text/plain": [
       "' Neural network consisto of input output and hidden layers \\n    Input layer : dataset features \\n    Ouput layer : predictions \\n    Hidden layers : They lie between input and output layers and consist of various hidden layers \\n'"
      ]
     },
     "execution_count": 3,
     "metadata": {},
     "output_type": "execute_result"
    }
   ],
   "source": [
    "# First neural network in pytorch tensors \n",
    "''' Neural network consisto of input output and hidden layers \n",
    "    Input layer : dataset features \n",
    "    Ouput layer : predictions \n",
    "    Hidden layers : They lie between input and output layers and consist of various hidden layers \n",
    "'''\n"
   ]
  },
  {
   "cell_type": "code",
   "execution_count": 4,
   "id": "10673e74",
   "metadata": {},
   "outputs": [],
   "source": [
    "# Importing as nn to avovid writing as torch.nn and \n",
    "# Input neurons : features in our dataset \n",
    "# Output : number of classes we watn to rpredit "
   ]
  },
  {
   "cell_type": "code",
   "execution_count": 8,
   "id": "5b4faa17",
   "metadata": {},
   "outputs": [
    {
     "name": "stdout",
     "output_type": "stream",
     "text": [
      "tensor([[0.1981, 0.3240]], grad_fn=<AddmmBackward0>)\n",
      "Parameter containing:\n",
      "tensor([[-0.0747, -0.0305,  0.3228],\n",
      "        [-0.2709,  0.2250, -0.4945]], requires_grad=True)\n",
      "Parameter containing:\n",
      "tensor([0.3139, 0.1992], requires_grad=True)\n"
     ]
    }
   ],
   "source": [
    "import torch\n",
    "import torch.nn as nn\n",
    "\n",
    "# Creating input_tensor with three features\n",
    "input_tensor = torch.tensor([[0.3471, 0.4547, -0.2356]])  # Note the double square brackets\n",
    "\n",
    "# Defining the linear layer as it applies a linear transformation to the incoming data\n",
    "linear_layer = nn.Linear(\n",
    "    in_features=3,\n",
    "    out_features=2\n",
    ")\n",
    "\n",
    "# Passing the input through the linear layer\n",
    "output = linear_layer(input_tensor)\n",
    "print(output)\n",
    "print(linear_layer.weight)\n",
    "print(linear_layer.bias)\n",
    "\n",
    "# Weight reflects the importance of different features \n",
    "# bias provides neuron iwth a baseline output "
   ]
  },
  {
   "cell_type": "code",
   "execution_count": 10,
   "id": "fc4b612f",
   "metadata": {},
   "outputs": [
    {
     "data": {
      "text/plain": [
       "' Example for linear prediction using weight and bias \\nSuppose we are having the 3 inputs having temrpeature humidity and wind and the output of 2 then the \\nhumidity will have the more significant weight to predict whether it will be cloudy or sunny \\n\\n\\n'"
      ]
     },
     "execution_count": 10,
     "metadata": {},
     "output_type": "execute_result"
    }
   ],
   "source": [
    "''' Example for linear prediction using weight and bias \n",
    "Suppose we are having the 3 inputs having temrpeature humidity and wind and the output of 2 then the \n",
    "humidity will have the more significant weight to predict whether it will be cloudy or sunny \n",
    "\n",
    "\n",
    "'''"
   ]
  },
  {
   "cell_type": "code",
   "execution_count": 11,
   "id": "49683016",
   "metadata": {},
   "outputs": [
    {
     "name": "stdout",
     "output_type": "stream",
     "text": [
      "Sequential(\n",
      "  (0): Linear(in_features=10, out_features=8, bias=True)\n",
      "  (1): Linear(in_features=8, out_features=4, bias=True)\n",
      "  (2): Linear(in_features=4, out_features=3, bias=True)\n",
      ")\n"
     ]
    }
   ],
   "source": [
    "import torch.nn as nn\n",
    "\n",
    "# Define the number of input features\n",
    "n_features = 10  # Replace with the actual number of features in your data\n",
    "\n",
    "# Define the number of output classes\n",
    "n_classes = 3   # Replace with the actual number of classes in your task\n",
    "\n",
    "# Creating the network with three linear layers\n",
    "model = nn.Sequential(\n",
    "    nn.Linear(n_features, 8),\n",
    "    nn.Linear(8, 4),\n",
    "    nn.Linear(4, n_classes)\n",
    ")\n",
    "\n",
    "print(model)"
   ]
  },
  {
   "cell_type": "code",
   "execution_count": 12,
   "id": "8e1eed2b",
   "metadata": {},
   "outputs": [
    {
     "name": "stdout",
     "output_type": "stream",
     "text": [
      "46\n"
     ]
    }
   ],
   "source": [
    "model = nn.Sequential(nn.Linear(8,4), nn.Linear(4,2))\n",
    "# First layer has 4 neurons and each neuron has 8+ 1 9 parameters and 9 *4 = 36 parameters \n",
    "total = 0 \n",
    "for parameter in model.parameters():\n",
    "    total  = total + parameter.numel()\n",
    "print(total)"
   ]
  },
  {
   "cell_type": "code",
   "execution_count": null,
   "id": "96603465",
   "metadata": {},
   "outputs": [],
   "source": []
  }
 ],
 "metadata": {
  "kernelspec": {
   "display_name": "Python 3",
   "language": "python",
   "name": "python3"
  },
  "language_info": {
   "codemirror_mode": {
    "name": "ipython",
    "version": 3
   },
   "file_extension": ".py",
   "mimetype": "text/x-python",
   "name": "python",
   "nbconvert_exporter": "python",
   "pygments_lexer": "ipython3",
   "version": "3.13.2"
  }
 },
 "nbformat": 4,
 "nbformat_minor": 5
}
